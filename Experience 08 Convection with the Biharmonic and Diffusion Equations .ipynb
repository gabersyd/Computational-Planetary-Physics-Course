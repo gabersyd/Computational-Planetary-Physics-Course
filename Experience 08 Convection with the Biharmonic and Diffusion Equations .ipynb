{
 "cells": [
  {
   "cell_type": "markdown",
   "metadata": {},
   "source": [
    "# Experience 8: Convection with the Biharmonic and Diffusion Equations "
   ]
  },
  {
   "cell_type": "code",
   "execution_count": null,
   "metadata": {},
   "outputs": [],
   "source": [
    "import numpy as np \n",
    "import scipy.sparse.linalg as la\n",
    "import scipy.sparse as sparse\n",
    "import matplotlib.pyplot as plt"
   ]
  },
  {
   "cell_type": "markdown",
   "metadata": {},
   "source": [
    "Today, we put together everything we have learned until now to create a code that models convection. The steps to follow are:\n",
    "1. learn to have non-zero boundary conditions for the diffusion equation (becuase later, we want to have a hot bottom and cold top)\n",
    "2. learn to use the vectorizedUpwind, a fast technique to advect flow\n",
    "3. put everything together in a convection algorithm and discover the critical Rayleigh number at which convection starts\n",
    "\n",
    "Let's create our mesh first:"
   ]
  },
  {
   "cell_type": "code",
   "execution_count": null,
   "metadata": {},
   "outputs": [],
   "source": [
    "nxp=51; nxc=nxp-1; xTot=1.0; \n",
    "nyp=51; nyc=nyp-1; yTot=1.0; \n",
    "\n",
    "dx=xTot/nxc; xMin=-xTot/2.0; xMax=xTot/2.0\n",
    "dy=yTot/nyc; yMin=-yTot/2.0; yMax=yTot/2.0"
   ]
  },
  {
   "cell_type": "markdown",
   "metadata": {},
   "source": [
    "### Diffusion equation with non-zero boundary conditions\n",
    "\n",
    "The first step is to rebuild our library of operators that allow us to project values to the center of the sides of each cell and to create gradients and Laplacian."
   ]
  },
  {
   "cell_type": "code",
   "execution_count": null,
   "metadata": {},
   "outputs": [],
   "source": [
    "# Functional approach to the calculation of the Laplacian\n",
    "def buildSparseOperatorXaxis(nx,ny,k1,k2):\n",
    "    nx1=nx-1\n",
    "    firstDiag=np.ones(nx*ny,float)*k1\n",
    "    secondDiag=np.ones(nx*ny,float)*k2\n",
    "    offsets=np.array([0,ny])\n",
    "    return ( sparse.dia_matrix(([firstDiag,secondDiag],offsets), shape=(nx1*ny,nx*ny)).tocsr() )           \n",
    "\n",
    "def buildSparseOperatorYaxis(nx,ny,k1,k2):\n",
    "    ny1=ny-1\n",
    "    firstDiag=np.ones(ny,float)*k1\n",
    "    secondDiag=np.ones(ny,float)*k2\n",
    "    offsets=np.array([0,1])\n",
    "    block = sparse.dia_matrix(([firstDiag,secondDiag],offsets), shape=(ny1,ny)).tocsr()\n",
    "    return (sparse.kron(sparse.eye(nx),block))\n",
    "\n",
    "def sparseGradientOperator(nxp,nyp,dx,dy):\n",
    "    DxOp = buildSparseOperatorXaxis(nxp,nyp-1,-1.0/dx,1.0/dx) \n",
    "    DyOp = buildSparseOperatorYaxis(nxp-1,nyp,-1.0/dy,1.0/dy) \n",
    "    sideXOp=buildSparseOperatorYaxis(nxp,nyp, 0.5, 0.5) \n",
    "    sideYOp=buildSparseOperatorXaxis(nxp,nyp, 0.5, 0.5) \n",
    "    return(DxOp.dot(sideXOp),DyOp.dot(sideYOp))\n",
    "\n",
    "def sparseLaplacianOperator(nxp,nyp,dx,dy): \n",
    "    (cellDxOp,cellDyOp)=sparseGradientOperator(nxp,nyp,dx,dy) \n",
    "    (cellDxOpSmall,cellDyOpSmall) = sparseGradientOperator(nxp-1,nyp-1,dx,dy) \n",
    "    return(cellDxOpSmall.dot(cellDxOp)+cellDyOpSmall.dot(cellDyOp))\n",
    "\n",
    "def addBC(operatorWithoutBC,nxp,nyp): # add Boundary Conditions nxy=nxp*nyp\n",
    "    nxy=nxp*nyp\n",
    "    operatorWithBC=sparse.lil_matrix((nxy,nxy))\n",
    "    indexes = np.arange(nxy)\n",
    "  # selects only the interior points\n",
    "    oldLines = (indexes>=nyp) * (indexes<=nxy-nyp) * (indexes % nyp != 0) * (indexes % nyp != nyp-1) \n",
    "    operatorWithBC[oldLines,:]=operatorWithoutBC[:,:] \n",
    "    operatorWithBC[~oldLines,~oldLines]=1.0\n",
    "    return operatorWithBC"
   ]
  },
  {
   "cell_type": "markdown",
   "metadata": {},
   "source": [
    "Second, we consider the solution of the diffusion equation as \n",
    "\n",
    "\\begin{equation}\n",
    "\\left( 1+4r \\right) T^{t+\\Delta t} \\left( x_i,y_j \\right) -r T^{t+\\Delta t} \\left( x_i,y_{j+1} \\right) -r T^{t+\\Delta t} \\left( x_i,y_{j-1} \\right) -r T^{t+\\Delta t} \\left( x_{i+1},y_{j} \\right) -r T^{t+\\Delta t} \\left( x_{i+1},y_{j} \\right)  = T^t \\left( x_i,y_j \\right)\n",
    "\\label{eq-diff-impl-2D-2}\n",
    "\\end{equation}\n",
    "\n",
    "Using our operators"
   ]
  },
  {
   "cell_type": "code",
   "execution_count": null,
   "metadata": {},
   "outputs": [],
   "source": [
    "LaplacianOp=sparseLaplacianOperator(nxp,nyp,dx,dy) #create laplacian operator A\n",
    "LaplacianOp=addBC(LaplacianOp,nxp,nyp)*r*dx*dy  # add boundary conditions\n",
    "IA=sparse.eye(nxp*nyp).tocsc()-LaplacianOp  # I-A # create the I-A operator for diffusion"
   ]
  },
  {
   "cell_type": "markdown",
   "metadata": {},
   "source": [
    "And now we recreate the solver for the diffusion equation, but this time we change the boundary conditions:"
   ]
  },
  {
   "cell_type": "code",
   "execution_count": null,
   "metadata": {},
   "outputs": [],
   "source": [
    "steps=1000; totalTime=1.0; plotEverySteps = 100; \n",
    "deltaTime=totalTime/steps; diffusivity=5e-2; \n",
    "r = deltaTime*diffusivity/(dx*dy)\n",
    "\n",
    "X=np.arange(nxp)*dx+xMin\n",
    "Y=np.arange(nyp)*dy+yMin\n",
    "T=np.outer(np.sin(2*np.pi*X),np.sin(2*np.pi*Y))\n",
    "\n",
    "for thisStep in np.arange(steps):\n",
    "    T = la.spsolve(IA,T.reshape(nxp*nyp)).reshape(nxp,nyp)\n",
    "    plt.imshow(T);plt.colorbar();plt.show()"
   ]
  },
  {
   "cell_type": "markdown",
   "metadata": {},
   "source": [
    "You can find the solution much more rapidly by running it without visualizing each step. Try to visualize only the first and last step.\n",
    "\n",
    "### Exercise 1\n",
    "As an exercise, try to add boundary conditions. The fact is that you don't have to really add anything. You already used **addBC()** when creating the Laplacian. In **addBC()**, we have set to *identity* the value for the boundary nodes. For this reason, you just have to set the value of the temperature to what you think it should be (set the top to 1 and the bottom to -1, for example) and see how the solver evolves. \n",
    " "
   ]
  },
  {
   "cell_type": "code",
   "execution_count": null,
   "metadata": {},
   "outputs": [],
   "source": [
    "# here you can write your solution\n",
    "\n"
   ]
  },
  {
   "cell_type": "markdown",
   "metadata": {},
   "source": [
    "### Vectorized Upwind\n",
    "\n",
    "When gradients are not very steep (for example for thermally driven convection), a  convenient and not memory and computing demanding algorithm is possible. Let us look now at how a less accurate but much faster, less memory consuming and always balanced approach can be written and simply vectorized.\n",
    "\n",
    "The most well-known algorithm is called the *Upwind scheme* and is based on the simple idea that every total derivative respect to space of a field of a moving fluid can be expressed as the product of the velocity field for the gradient of the field itself:\n",
    "\n",
    "\\begin{equation}\n",
    "\\frac{d F}{d t} = \\frac{\\partial F}{\\partial t} + \\frac{\\partial x_i}{\\partial t} \\frac{\\partial F}{\\partial x_i} = \\frac{\\partial F}{\\partial t} + v_i \\frac{\\partial F}{\\partial x_i}\n",
    "\\end{equation}  \n",
    "\n",
    "The terms on the right to the Eulerian derivative are given by the product of the velocity multiplied to the gradient. This simple technique is very old and was already introduced by Courant and co-workers in 1965. Its stability is also defined by the so called Courant criterium $v \\delta t / \\Delta x < 1$. While the advantage of this approach is clearly speed and minimized memory usage (compared to using particles, for example) it is subjected to quite a substantial diffusion of sharp gradients, which makes its use inappropriate for accurate tracking of material boundaries.\n",
    "\n",
    "A modern version of this algorithm is the so-called \\emph{Donor-Cell algorithm}. Its goal is the same, but it is based on fluxes, therefore its physical interpretation is more clear. When the material flows from left to\n",
    "right ($v_x>0$), then the flux of the field $F$ through the interface between one cell and the next is $F_{leftCell} \\dot v_x^{left} - F_{Cell} \\dot v_x^{right}$, while if $v_x<0$ the flux is $F_{Cell} \\dot v_x^{right} - F_{rightCell} \\dot v_x^{left}$. \n",
    "\n",
    "To vectorize the donor-cell method the simplest approach is to calculate the flux through the each cell and then use a boolean index and its negative (not index) to select which direction for the flow needs to be taken. This is done for every axis separately. It follows here an example in 2D.    \n"
   ]
  },
  {
   "cell_type": "code",
   "execution_count": null,
   "metadata": {},
   "outputs": [],
   "source": [
    "def vectorizedUpwind(F,vx,vy,dx,dy,dt): \n",
    "    (nx,ny) = F.shape\n",
    "    dFplus = np.zeros((nx,ny),float) \n",
    "    dFminus = np.zeros((nx,ny),float) \n",
    "    dF_dt = np.zeros((nx,ny),float)\n",
    "    \n",
    "    ind = vx>0.0 # flag array for x upwind \n",
    "    ind[0,:] = True; ind[nx-1,:]=False\n",
    "    \n",
    "    dFplus[1:-1,:] = (F[:-2,:]*vx[1:-1,:] - F[1:-1,:]*vx[2:,:])/dx \n",
    "    dFminus[1:-1,:] = (F[1:-1,:]*vx[1:-1,:] - F[2:,:]*vx[2:,:])/dx \n",
    "    dF_dt = (ind * dFplus + ~ind * dFminus)\n",
    "    \n",
    "    ind = vy>0.0 # flag array for y upwind \n",
    "    ind[:,0] = True; ind[:,ny-1]=False\n",
    "    \n",
    "    dFplus[:,1:-1] = (F[:,:-2]*vy[:,1:-1] - F[:,1:-1]*vy[:,2:])/dy \n",
    "    dFminus[:,1:-1] = (F[:,1:-1]*vy[:,1:-1] - F[:,2:]*vy[:,2:])/dy\n",
    "    dF_dt += (ind * dFplus + ~ind * dFminus) \n",
    "    \n",
    "    return (F + dt * dF_dt)\n"
   ]
  },
  {
   "cell_type": "markdown",
   "metadata": {},
   "source": [
    "To test how efficient is this advection scheme, we need a flow. A very practical flow was introduced by Bell about 20 years ago, for helping visual scientists to benchmark their advection schemes. "
   ]
  },
  {
   "cell_type": "code",
   "execution_count": null,
   "metadata": {},
   "outputs": [],
   "source": [
    "# Bell's flow\n",
    "X=np.arange(nxp)*dx+xMin\n",
    "Y=np.arange(nyp)*dy+yMin\n",
    "\n",
    "vx=np.zeros((nxp,nyp), float)\n",
    "vy=np.zeros((nxp,nyp), float)\n",
    "\n",
    "xNorm=(X+xMin)/xTot\n",
    "yNorm=(Y+yMin)/yTot\n",
    "for iy in np.arange(0,nyp):\n",
    "    vx[:,iy] = np.sin(np.pi*xNorm) * np.sin(np.pi*xNorm) * np.sin(np.pi*yNorm[iy]) * np.cos(np.pi*yNorm[iy])\n",
    "for ix in np.arange(0,nxp):\n",
    "    vy[ix,:] =- np.sin(np.pi*yNorm) * np.sin(np.pi*yNorm) * np.sin(np.pi*xNorm[ix]) * np.cos(np.pi*xNorm[ix])\n",
    "    \n",
    "plt.streamplot( X[0:nxc], Y[0:nyc], vx[0:nxc,0:nyc].transpose(), vy[0:nxc,0:nyc].transpose(), linewidth=.3)\n",
    "plt.axis(\"equal\")\n",
    "plt.show()"
   ]
  },
  {
   "cell_type": "markdown",
   "metadata": {},
   "source": [
    "### Exercise 2\n",
    "Write a function that takes the Bell's flow, and advects a circular anomaly, as in Experience 4 on kinematic motion in 2 dimensions. "
   ]
  },
  {
   "cell_type": "code",
   "execution_count": null,
   "metadata": {},
   "outputs": [],
   "source": [
    "# use this anomaly for example\n",
    "T=np.zeros((nxp,nyp), float) #mesh\n",
    "T = np.outer(np.exp(-(X-xTot/4)**2*50/xTot**2),np.exp(-(Y-yTot/4)**2*50/yTot**2))\n",
    "plt.imshow(T)\n",
    "\n",
    "# here you can write your solution\n"
   ]
  },
  {
   "cell_type": "markdown",
   "metadata": {},
   "source": [
    "### Convection\n",
    "\n",
    "We can finally put everything together. We just need to reintroduce the *biharmonic* operator and the *mesh to volume* and *volume to mesh* operators, and we can rewrite the same solution that we had found previosly for the falling of the sphere, but now we can model a hot bottom and a cold top and model the advection of a hot system. "
   ]
  },
  {
   "cell_type": "code",
   "execution_count": null,
   "metadata": {},
   "outputs": [],
   "source": [
    "def MeshToVolume(nxp,nyp):\n",
    "    return buildSparseOperatorYaxis(nxp-1,nyp,0.5,0.5).dot( buildSparseOperatorXaxis(nxp,nyp,0.5,0.5) )\n",
    "def VolumeToMesh(nxp,nyp):\n",
    "    return buildSparseOperatorXaxis(nxp,nyp,0.5,0.5).transpose().dot( buildSparseOperatorYaxis(nxp-1,nyp,0.5,0.5).transpose() )        \n",
    "def biharmonicOperator(nxp,nyp,dx,dy):\n",
    "    return (addBC( sparseLaplacianOperator(nxp,nyp,dx,dy),nxp,nyp)**2 )"
   ]
  },
  {
   "cell_type": "markdown",
   "metadata": {},
   "source": [
    "### Exercise 3\n",
    "\n",
    "This is your grand final exercise. It will not be easy, but it will be great to see that you can create a code that produces convection. Just be patient and be focused. "
   ]
  },
  {
   "cell_type": "code",
   "execution_count": null,
   "metadata": {},
   "outputs": [],
   "source": [
    "# Two reccommendations. \n",
    "\n",
    "#One is use the following constrains \n",
    "#for the right hand side. This is because the biharmonic solver \n",
    "#does not work with gradients at the boundary \n",
    "#  rhs.reshape(nxp,nyp)[0,:]=rhs.reshape(nxp,nyp)[-1,:]=0.\n",
    "#  rhs.reshape(nxp,nyp)[:,0]=rhs.reshape(nxp,nyp)[:,-1]=0.\n",
    "\n",
    "#The second is that a system advects only when there is enough\n",
    "#gradient to overcome the viscous stresses. A set of tested values\n",
    "nxp=101; nxc=nxp-1; nxpInt=nxc-1; xTot=4.0; \n",
    "nyp=26; nyc=nyp-1; nypInt=nyc-1; yTot=1.0; \n",
    "dx=xTot/nxc; xMin=0; xMax=xTot\n",
    "dy=yTot/nyc; yMin=0; yMax=yTot\n",
    "steps=1000; totalTime=20.0; deltaTime=totalTime/steps; \n",
    "\n",
    "#allocate arrays\n",
    "X=np.arange(nxp)*dx+xMin; Y=np.arange(nyp)*dy+yMin\n",
    "vx = np.zeros((nxp,nyp), float)  # x-velocity solution\n",
    "vy = np.zeros((nxp,nyp), float)  # y-velocity solution\n",
    "psi = np.zeros((nxp,nyp), float)  # sreamline function\n",
    "\n",
    "visc = 0.05; gy=-10.; gx=0.\n",
    "\n",
    "(Dx,Dy)= sparseGradientOperator(nxp,nyp,dx,dy) \n",
    "\n",
    "r=0.1\n",
    "LaplacianOp=sparseLaplacianOperator(nxp,nyp,dx,dy) #create laplacian operator A\n",
    "LaplacianOp=addBC(LaplacianOp,nxp,nyp)*r*dx*dx  # add boundary conditions\n",
    "IA=sparse.eye(nxp*nyp).tocsc()-LaplacianOp  # I-A # create the I-A operator for diffusion\n",
    "\n",
    "# initial conditions, create two density anomalies\n",
    "density=np.zeros((nxp,nyp),float) \n",
    "for y in range(nyp):\n",
    "    density[:,y]=y/nyp\n",
    "\n",
    "for step in range(steps):\n",
    "    # here you can write the rest of the solution\n",
    "\n",
    "    # good luck!\n",
    "    "
   ]
  },
  {
   "cell_type": "code",
   "execution_count": null,
   "metadata": {},
   "outputs": [],
   "source": []
  },
  {
   "cell_type": "code",
   "execution_count": null,
   "metadata": {},
   "outputs": [],
   "source": []
  },
  {
   "cell_type": "code",
   "execution_count": null,
   "metadata": {},
   "outputs": [],
   "source": []
  }
 ],
 "metadata": {
  "kernelspec": {
   "display_name": "Python 3",
   "language": "python",
   "name": "python3"
  },
  "language_info": {
   "codemirror_mode": {
    "name": "ipython",
    "version": 3
   },
   "file_extension": ".py",
   "mimetype": "text/x-python",
   "name": "python",
   "nbconvert_exporter": "python",
   "pygments_lexer": "ipython3",
   "version": "3.7.6"
  }
 },
 "nbformat": 4,
 "nbformat_minor": 2
}
